{
 "cells": [
  {
   "cell_type": "markdown",
   "metadata": {},
   "source": [
    "Victor Guo: Darrell’s user interface is fully functional, meeting all of his requirements. The individual functions are extremely sophisticated (implementing multiple Except functions) and easy to use, despite the intimidating looking code. Overall, he has satisfied all of the functional requirements of his analysis.\n",
    "\n",
    "Ray Wong: Darrell Campoy’s User Interface meets most of both his functional and non-functional requirements.\n",
    "The program manages to detect the correct CSV file. Then, the program displays a variety of different analysis options, including mean, median, mode etc. He also included many different kinds of charts to display his data in a more user-accessible method, by adding sub-options to make it a lot easier for the user. For feedback, I’d recommend adding a line of code in his program that skips bad lines, in case it might give an error. Darrell should also include a statistical report, as mentioned in his functional requirements, to fulfil the requirements.\n",
    "Darrell’s program also utilises non-functional requirements. His user-interface is made in a way that is simplistic yet user-friendly, presenting the options and what to input to run that option. For his option that adds a new row, he makes sure he maintains reliability by adding that new row in a new CSV dataset, to not mess up the original, clean dataset. Darrell’s program also has sub-options, which, as mentioned before, makes the user experience a lot more seamless and smooth. For feedback, I’d recommend adding a README file to appeal all his non-functional requirements, and a README document could also benefit the user, by providing background information and additional instructions.\n",
    "Overall, Darrell’s User Interface meets most of his determined requirements. By utilising some of the feedback, he is capable of meeting every requirement and ensure maximum functionality for his program. He has done a very good job in creating his program.\n"
   ]
  }
 ],
 "metadata": {
  "language_info": {
   "name": "python"
  }
 },
 "nbformat": 4,
 "nbformat_minor": 2
}
