{
 "cells": [
  {
   "attachments": {},
   "cell_type": "markdown",
   "metadata": {},
   "source": [
    "# Identifying and Defining\n",
    "\n",
    "* __Data:__ Phone Prices\n",
    "* __Goal:__ To analyse what makes an affordable phone, as well as draw out the top 3 most practical phones for certain price ranges (0-500, 500-1000, 1000+). \n",
    "* __Source:__ https://www.kaggle.com/datasets/berkayeserr/phone-prices\n",
    "* __Access:__ publicly available\n",
    "* __Access Method__: .csv file"
   ]
  },
  {
   "attachments": {},
   "cell_type": "markdown",
   "metadata": {},
   "source": [
    "# Functional Requirements\n",
    "***"
   ]
  },
  {
   "attachments": {},
   "cell_type": "markdown",
   "metadata": {},
   "source": [
    "* __Data Loading__\n",
    "    * Description: Have the pandas dataframe draw information from a given csv file\n",
    "    * Input: .csv file\n",
    "    * Output: System loads dataset and displays info in a dataframe\n",
    "\n",
    "* __Use Case__\n",
    "    * Actor: User\n",
    "    * Goal: To load a dataset into the system.\n",
    "    * Preconditions: User has a dataset file ready.\n",
    "    * Main Flow:\n",
    "        1. User places the dataset for reading into the correct folder.\n",
    "        2. System validates the file format.\n",
    "        3. System loads the dataset and displays the information in a dataframe.\n",
    "    \n",
    "    * Postconditions: Dataset is loaded and ready for the cleaning process\n",
    "\n",
    "***"
   ]
  },
  {
   "attachments": {},
   "cell_type": "markdown",
   "metadata": {},
   "source": [
    "* __Data Cleaning__\n",
    "    * Description: Removes invalid/incomplete data from the dataset and sorts/groups data (eg. brand, year, price) for whichever the user inputs. \n",
    "    * Input: \n",
    "        * Loaded Dataset from Data Loading Process\n",
    "        * Specified criteria for sorting/grouping\n",
    "    * Output: Filtered dataset ready for analysis\n",
    "\n",
    "* __Use Case__\n",
    "    * Actor: User\n",
    "    * Goal: To remove invalid and sort/group data\n",
    "    * Preconditions: User has loaded a dataset\n",
    "    * Main flow:\n",
    "        1. User decides how they would like to sort the data\n",
    "        2. System sorts the data based on given criterias\n",
    "    * Postconditions: Invalid data has been removed and dataset is now sorted into groups\n",
    "\n",
    "*** "
   ]
  },
  {
   "attachments": {},
   "cell_type": "markdown",
   "metadata": {},
   "source": [
    "* __Data Analysis__\n",
    "    * Description: Statistical analysis of mean, median, mode and range\n",
    "    * Input: \n",
    "        * Filtered dataset from Data Cleaning Process\n",
    "        * Specified criteria for generating the mean, median, mode and range\n",
    "    * Output: Statistics of mean, median, mode for specified criterias\n",
    "\n",
    "* __Use Case__\n",
    "    * Actor: User\n",
    "    * Goal: To obtain a mean, median, mode, or range for specified criterias\n",
    "    * Preconditions: User has gone through the data cleaning process\n",
    "    * Main flow:\n",
    "        1. User selects what data they want to use\n",
    "        2. User selects among mean, median, mode, or range for the data they would like\n",
    "        3. System obtains whatever the user chooses\n",
    "    * Postconditions: The mean, median, mode, or range for specfied criterias has been obtained\n",
    "\n",
    "***"
   ]
  },
  {
   "attachments": {},
   "cell_type": "markdown",
   "metadata": {},
   "source": [
    "* __Data Visualisation__\n",
    "    * Description: Have the data be visualised in the form of Pandas Dataframes and Matplotlib charts.\n",
    "    * Input: Given statistics from Data Analysis process\n",
    "    * Output: Generate visual statistics from Data Analysis process in the form of Pandas Dataframes and different Matplotlib charts.\n",
    "\n",
    "* __Use Case__\n",
    "    * Actor: User\n",
    "    * Goal: To visualise given data\n",
    "    * Preconditions: User has gone through the Data Analysis Process\n",
    "    * Main flow:\n",
    "        1. User selects how they would like the data to be visualised\n",
    "        2. System visualises the data according to given criteria\n",
    "    * Postconditions: Data has been visualised and is ready for the reporting process\n",
    "***"
   ]
  },
  {
   "attachments": {},
   "cell_type": "markdown",
   "metadata": {},
   "source": [
    "* __Data Reporting__\n",
    "    * Description: Stores final dataset in a .csv file.\n",
    "    * Input: Statistics from Data Analysis process\n",
    "    * Output: Store Data Analysis statistics in a .csv file\n",
    "\n",
    "* __Use Cases__\n",
    "    * Actor: User\n",
    "    * Goal: To store final dataset into a .csv file\n",
    "    * Preconditions: User has gone through the data analysis process\n",
    "    * Main flow:\n",
    "        1. User selects whether they would like the final dataset to be stored\n",
    "        2. System stores the final dataset into a .csv file\n",
    "    * Postconditions: Final dataset has been stored into a .csv file\n",
    "***"
   ]
  },
  {
   "attachments": {},
   "cell_type": "markdown",
   "metadata": {},
   "source": [
    "# Non-Functional Requirements"
   ]
  },
  {
   "attachments": {},
   "cell_type": "markdown",
   "metadata": {},
   "source": [
    "# Research and Planning"
   ]
  },
  {
   "attachments": {},
   "cell_type": "markdown",
   "metadata": {},
   "source": [
    "__Purpose, Missing Data, Stakeholders & Use:__\n",
    "\n",
    "The purpose is to analyse the affordability of phones based on its specifications (what makes an affordable phone) and where does the price of the phone get allocated in relevance to the production costs. Using this information the most practically priced phones in regards to its specifications will be drawn out. \n",
    "\n",
    "It is necessary to carry out this analysis as the raw data does only gives the raw values and specifications which does not provide any value in regards to highlighting the purpose. \n",
    "\n",
    "Consumers will greatly benefit from this analysis, as it gives them an insight into where the money they spend is allocated towards, and whether the money coming from their wallet is being allocated at maximum efficiency. Consumers can use this information to identify how they should spend their money and whether or not they are overspending on a phone that provides almost the same value as one of a lower price. In addition to this, consumers can use this to gather an understanding of the value of certain specifications, and whether or not they are worth the money in regards to the tasks they can perform (for example, using a 64gb ram phone to view facebook)\n"
   ]
  }
 ],
 "metadata": {
  "kernelspec": {
   "display_name": "Python 3",
   "language": "python",
   "name": "python3"
  },
  "language_info": {
   "name": "python",
   "version": "3.9.2"
  },
  "orig_nbformat": 4
 },
 "nbformat": 4,
 "nbformat_minor": 2
}
