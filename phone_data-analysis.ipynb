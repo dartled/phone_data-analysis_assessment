{
 "cells": [
  {
   "attachments": {},
   "cell_type": "markdown",
   "metadata": {},
   "source": [
    "# Identifying and Defining\n",
    "\n",
    "* __Data:__ Phone Prices\n",
    "* __Goal:__ To analyse affordability of phones based on specifications, as well as draw out the top 3 most practical phones for certain price ranges (0-500, 500-1000, 1000+). \n",
    "* __Source:__ https://www.kaggle.com/datasets/berkayeserr/phone-prices\n",
    "* __Access:__ publicly available\n",
    "* __Access Method__: .csv file"
   ]
  },
  {
   "attachments": {},
   "cell_type": "markdown",
   "metadata": {},
   "source": [
    "# Functional Requirements"
   ]
  },
  {
   "attachments": {},
   "cell_type": "markdown",
   "metadata": {},
   "source": [
    "* __Data Loading__\n",
    "    * Description: Have the pandas dataframe draw information from a given csv file\n",
    "    * Input: .csv file\n",
    "    * Output: System loads dataset and displays info in a dataframe\n",
    "\n",
    "* __Use Case__\n",
    "    * Actor: User\n",
    "    * Goal: To load a dataset into the system.\n",
    "    * Preconditions: User has a dataset file ready.\n",
    "    * Main Flow:\n",
    "        1. User places the dataset for reading into the correct folder.\n",
    "        2. System validates the file format.\n",
    "        3. System loads the dataset and displays the information in a dataframe.\n",
    "    \n",
    "    * Postconditions: Dataset is loaded and ready for analysis."
   ]
  },
  {
   "attachments": {},
   "cell_type": "markdown",
   "metadata": {},
   "source": [
    "* __Data Cleaning__\n",
    "    * Description: Removes invalid/incomplete data from the dataset and sorts/groups data for whichever the user inputs. \n",
    "    * Input:  \n",
    "    * Output:  "
   ]
  },
  {
   "attachments": {},
   "cell_type": "markdown",
   "metadata": {},
   "source": [
    "* __Data Analysis__\n",
    "    * Description: Statistical analysis of mean, median, mode.\n",
    "    * Input:\n",
    "    * Output: "
   ]
  },
  {
   "attachments": {},
   "cell_type": "markdown",
   "metadata": {},
   "source": [
    "* __Data Visualisation__\n",
    "    * Description: Have the data be visualised in the form of Pandas Dataframes and Matplotlib charts .\n",
    "    * Input: \n",
    "    * Output: "
   ]
  },
  {
   "attachments": {},
   "cell_type": "markdown",
   "metadata": {},
   "source": [
    "* __Data Reporting__\n",
    "    * Description: Stores final dataset in a .csv file.\n",
    "    * Input:\n",
    "    * Output:"
   ]
  },
  {
   "attachments": {},
   "cell_type": "markdown",
   "metadata": {},
   "source": []
  },
  {
   "attachments": {},
   "cell_type": "markdown",
   "metadata": {},
   "source": [
    "# Non-Functional Requirements"
   ]
  }
 ],
 "metadata": {
  "kernelspec": {
   "display_name": "Python 3",
   "language": "python",
   "name": "python3"
  },
  "language_info": {
   "name": "python",
   "version": "3.9.2"
  },
  "orig_nbformat": 4
 },
 "nbformat": 4,
 "nbformat_minor": 2
}
