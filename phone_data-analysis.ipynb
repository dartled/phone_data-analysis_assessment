{
 "cells": [
  {
   "attachments": {},
   "cell_type": "markdown",
   "metadata": {},
   "source": [
    "# Identifying and Defining\n",
    "\n",
    "* __Data:__ Phone Prices\n",
    "* __Goal:__ To analyse what makes an affordable phone, as well as draw out the top 3 most practical phones for certain price ranges (0-500, 500-1000, 1000+). \n",
    "* __Source:__ https://www.kaggle.com/datasets/berkayeserr/phone-prices\n",
    "* __Access:__ publicly available\n",
    "* __Access Method__: .csv file"
   ]
  },
  {
   "attachments": {},
   "cell_type": "markdown",
   "metadata": {},
   "source": [
    "# Functional Requirements"
   ]
  },
  {
   "attachments": {},
   "cell_type": "markdown",
   "metadata": {},
   "source": [
    "* __Data Loading__\n",
    "    * Description: Have the pandas dataframe draw information from a given csv file\n",
    "    * Input: .csv file\n",
    "    * Output: System loads dataset and displays info in a dataframe\n",
    "\n",
    "* __Use Case__\n",
    "    * Actor: User\n",
    "    * Goal: To load a dataset into the system.\n",
    "    * Preconditions: User has a dataset file ready.\n",
    "    * Main Flow:\n",
    "        1. User places the dataset for reading into the correct folder.\n",
    "        2. System validates the file format.\n",
    "        3. System loads the dataset and displays the information in a dataframe.\n",
    "    \n",
    "    * Postconditions: Dataset is loaded and ready for analysis."
   ]
  },
  {
   "attachments": {},
   "cell_type": "markdown",
   "metadata": {},
   "source": [
    "* __Data Cleaning__\n",
    "    * Description: Removes invalid/incomplete data from the dataset and sorts/groups data for whichever the user inputs. \n",
    "    * Input:  \n",
    "    * Output:  "
   ]
  },
  {
   "attachments": {},
   "cell_type": "markdown",
   "metadata": {},
   "source": [
    "* __Data Analysis__\n",
    "    * Description: Statistical analysis of mean, median, mode.\n",
    "    * Input:\n",
    "    * Output: "
   ]
  },
  {
   "attachments": {},
   "cell_type": "markdown",
   "metadata": {},
   "source": [
    "* __Data Visualisation__\n",
    "    * Description: Have the data be visualised in the form of Pandas Dataframes and Matplotlib charts .\n",
    "    * Input: \n",
    "    * Output: "
   ]
  },
  {
   "attachments": {},
   "cell_type": "markdown",
   "metadata": {},
   "source": [
    "* __Data Reporting__\n",
    "    * Description: Stores final dataset in a .csv file.\n",
    "    * Input:\n",
    "    * Output:"
   ]
  },
  {
   "attachments": {},
   "cell_type": "markdown",
   "metadata": {},
   "source": []
  },
  {
   "attachments": {},
   "cell_type": "markdown",
   "metadata": {},
   "source": [
    "# Non-Functional Requirements"
   ]
  },
  {
   "attachments": {},
   "cell_type": "markdown",
   "metadata": {},
   "source": [
    "# Research and Planning"
   ]
  },
  {
   "attachments": {},
   "cell_type": "markdown",
   "metadata": {},
   "source": [
    "__Purpose, Missing Data, Stakeholders & Use:__\n",
    "\n",
    "The purpose is to analyse the affordability of phones based on its specifications (what makes an affordable phone) and where does the price of the phone get allocated in relevance to the production costs. Using this information the most practically priced phones in regards to its specifications will be drawn out. \n",
    "\n",
    "It is necessary to carry out this analysis as the raw data does only gives the raw values and specifications which does not provide any value in regards to highlighting the purpose. \n",
    "\n",
    "Consumers will greatly benefit from this analysis, as it gives them an insight into where the money they spend is allocated towards, and whether the money coming from their wallet is being allocated at maximum efficiency. Consumers can use this information to identify how they should spend their money and whether or not they are overspending on a phone that provides almost the same value as one of a lower price. In addition to this, consumers can use this to gather an understanding of the value of certain specifications, and whether or not they are worth the money in regards to the tasks they can perform (for example, using a 64gb ram phone to view facebook)\n"
   ]
  }
 ],
 "metadata": {
  "kernelspec": {
   "display_name": "Python 3",
   "language": "python",
   "name": "python3"
  },
  "language_info": {
   "name": "python",
   "version": "3.9.2"
  },
  "orig_nbformat": 4
 },
 "nbformat": 4,
 "nbformat_minor": 2
}
